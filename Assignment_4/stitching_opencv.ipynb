{
 "cells": [
  {
   "cell_type": "code",
   "execution_count": 2,
   "id": "13830ce6",
   "metadata": {},
   "outputs": [],
   "source": [
    "import cv2\n",
    "import os\n",
    "import matplotlib.pyplot as plt"
   ]
  },
  {
   "cell_type": "code",
   "execution_count": 3,
   "id": "b146ae58",
   "metadata": {},
   "outputs": [],
   "source": [
    "# file list\n",
    "path = 'C:\\\\Users\\\\Yeon\\\\Study\\\\Korea_U\\\\2023020916_A4\\\\images'\n",
    "images = [file for file in os.listdir(path) if file.endswith(\"jpg\")]\n",
    "images\n",
    "\n",
    "# load images\n",
    "imgs = []\n",
    "for name in images:\n",
    "    img = cv2.imread(os.path.join(path, name))\n",
    "    \n",
    "    imgs.append(img)"
   ]
  },
  {
   "cell_type": "code",
   "execution_count": 4,
   "id": "20d20f18",
   "metadata": {},
   "outputs": [],
   "source": [
    "# create object\n",
    "stitcher = cv2.Stitcher_create()\n",
    "\n",
    "# image stitching\n",
    "status, dst = stitcher.stitch(imgs)\n",
    "\n",
    "if status != cv2.Stitcher_OK:\n",
    "    print('Stitch failed')"
   ]
  },
  {
   "cell_type": "code",
   "execution_count": 5,
   "id": "9b5b913a",
   "metadata": {},
   "outputs": [],
   "source": [
    "#save output\n",
    "cv2.imwrite('C:\\\\Users\\\\Yeon\\\\Study\\\\Korea_U\\\\2023020916_A4\\\\panorama_output.jpg', dst)\n",
    "\n",
    "#wshow image\n",
    "cv2.namedWindow('dst', cv2.WINDOW_NORMAL)\n",
    "cv2.imshow('dst', dst)\n",
    "cv2.waitKey()\n",
    "cv2.destroyAllWindows()"
   ]
  },
  {
   "cell_type": "code",
   "execution_count": null,
   "id": "6f95cc9b",
   "metadata": {},
   "outputs": [],
   "source": []
  }
 ],
 "metadata": {
  "kernelspec": {
   "display_name": "env_study",
   "language": "python",
   "name": "env_study"
  },
  "language_info": {
   "codemirror_mode": {
    "name": "ipython",
    "version": 3
   },
   "file_extension": ".py",
   "mimetype": "text/x-python",
   "name": "python",
   "nbconvert_exporter": "python",
   "pygments_lexer": "ipython3",
   "version": "3.8.8"
  }
 },
 "nbformat": 4,
 "nbformat_minor": 5
}
